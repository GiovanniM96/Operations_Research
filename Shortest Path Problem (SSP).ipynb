{
  "nbformat": 4,
  "nbformat_minor": 0,
  "metadata": {
    "colab": {
      "provenance": []
    },
    "kernelspec": {
      "name": "python3",
      "display_name": "Python 3"
    },
    "language_info": {
      "name": "python"
    }
  },
  "cells": [
    {
      "cell_type": "code",
      "source": [
        "import shutil\n",
        "import sys\n",
        "import os.path\n",
        "\n",
        "if not shutil.which(\"pyomo\"):\n",
        "    !pip install -q pyomo\n",
        "    assert(shutil.which(\"pyomo\"))\n",
        "\n",
        "if not (shutil.which(\"glpk\") or os.path.isfile(\"glpk\")):\n",
        "    if \"google.colab\" in sys.modules:\n",
        "        !apt-get install -y -qq glpk-utils\n",
        "    else:\n",
        "        try:\n",
        "            !conda install -c conda-forge glpk \n",
        "        except:\n",
        "            pass"
      ],
      "metadata": {
        "id": "NTavC31C-YnI",
        "colab": {
          "base_uri": "https://localhost:8080/"
        },
        "outputId": "380991cc-71c5-4c17-ffc8-507174f38e4a"
      },
      "execution_count": null,
      "outputs": [
        {
          "output_type": "stream",
          "name": "stdout",
          "text": [
            "\u001b[2K     \u001b[90m━━━━━━━━━━━━━━━━━━━━━━━━━━━━━━━━━━━━━━━━\u001b[0m \u001b[32m11.0/11.0 MB\u001b[0m \u001b[31m60.9 MB/s\u001b[0m eta \u001b[36m0:00:00\u001b[0m\n",
            "\u001b[2K     \u001b[90m━━━━━━━━━━━━━━━━━━━━━━━━━━━━━━━━━━━━━━━━\u001b[0m \u001b[32m49.6/49.6 kB\u001b[0m \u001b[31m3.6 MB/s\u001b[0m eta \u001b[36m0:00:00\u001b[0m\n",
            "\u001b[?25hSelecting previously unselected package libsuitesparseconfig5:amd64.\n",
            "(Reading database ... 122349 files and directories currently installed.)\n",
            "Preparing to unpack .../libsuitesparseconfig5_1%3a5.7.1+dfsg-2_amd64.deb ...\n",
            "Unpacking libsuitesparseconfig5:amd64 (1:5.7.1+dfsg-2) ...\n",
            "Selecting previously unselected package libamd2:amd64.\n",
            "Preparing to unpack .../libamd2_1%3a5.7.1+dfsg-2_amd64.deb ...\n",
            "Unpacking libamd2:amd64 (1:5.7.1+dfsg-2) ...\n",
            "Selecting previously unselected package libcolamd2:amd64.\n",
            "Preparing to unpack .../libcolamd2_1%3a5.7.1+dfsg-2_amd64.deb ...\n",
            "Unpacking libcolamd2:amd64 (1:5.7.1+dfsg-2) ...\n",
            "Selecting previously unselected package libglpk40:amd64.\n",
            "Preparing to unpack .../libglpk40_4.65-2_amd64.deb ...\n",
            "Unpacking libglpk40:amd64 (4.65-2) ...\n",
            "Selecting previously unselected package glpk-utils.\n",
            "Preparing to unpack .../glpk-utils_4.65-2_amd64.deb ...\n",
            "Unpacking glpk-utils (4.65-2) ...\n",
            "Setting up libsuitesparseconfig5:amd64 (1:5.7.1+dfsg-2) ...\n",
            "Setting up libamd2:amd64 (1:5.7.1+dfsg-2) ...\n",
            "Setting up libcolamd2:amd64 (1:5.7.1+dfsg-2) ...\n",
            "Setting up libglpk40:amd64 (4.65-2) ...\n",
            "Setting up glpk-utils (4.65-2) ...\n",
            "Processing triggers for man-db (2.9.1-1) ...\n",
            "Processing triggers for libc-bin (2.31-0ubuntu9.9) ...\n"
          ]
        }
      ]
    },
    {
      "cell_type": "markdown",
      "source": [
        "Vogliamo modellare il problema del cammino minimo da *1* a *n* dato un insieme di vertici su grafo  **orientato** $G=(V,A)$\n",
        "Modello ILP:\n",
        "\n",
        "$\\min \\sum_{a \\in A} c_a x_a$\n",
        "\n",
        "$  sum_{a \\in \\delta^+(1)} x_a =1 $\n",
        "\n",
        "$  sum_{a \\in \\delta^{-}(n)} x_a =1 $\n",
        "\n",
        "$  sum_{a \\in \\delta^{+}(i)} x_a - sum_{a \\in \\delta^-(i)} x_a =0~~~ i \\in V \\setminus\\{1,n\\}$\n",
        "\n",
        "$ x_j \\in \\{0,1\\} ~~~~~ a \\in A$"
      ],
      "metadata": {
        "id": "WFI1xyUH25ff"
      }
    },
    {
      "cell_type": "code",
      "execution_count": null,
      "metadata": {
        "id": "OQNJ1pEczZBb",
        "colab": {
          "base_uri": "https://localhost:8080/"
        },
        "outputId": "6bcec8db-3e09-4ef8-92f7-16573567b3f7"
      },
      "outputs": [
        {
          "output_type": "stream",
          "name": "stdout",
          "text": [
            "Mounted at /content/gdrive/\n",
            "'Colab Notebooks'   grafo_pesato.txt   grafo.txt\n"
          ]
        }
      ],
      "source": [
        "# mount del file che contiene i dati\n",
        "\n",
        "from google.colab import drive\n",
        "drive.mount(\"/content/gdrive/\",force_remount=True)\n",
        "#verifico cosa c'e' in \"My Drive\"\n",
        "!ls /content/gdrive/\"My Drive\"/\n",
        "\n",
        "\n",
        " "
      ]
    },
    {
      "cell_type": "markdown",
      "source": [
        "chiamo io *input* il file che ho aperto in lettura"
      ],
      "metadata": {
        "id": "XdS8G4Y19MYW"
      }
    },
    {
      "cell_type": "code",
      "source": [
        "input = open(\"/content/gdrive/My Drive/grafo_pesato.txt\", \"r\")"
      ],
      "metadata": {
        "id": "SmgjwIDNN9qp"
      },
      "execution_count": null,
      "outputs": []
    },
    {
      "cell_type": "markdown",
      "source": [
        "*read_string* è il nome che uso per memorizzare la stringa letta; *readline()* è il metodo che uso per leggere una riga dal *input*"
      ],
      "metadata": {
        "id": "X87B1QHa-iMB"
      }
    },
    {
      "cell_type": "code",
      "source": [
        "read_string = input.readline()\n",
        "lista = read_string.split()  #split() mi separa i termini della stringa read_string\n",
        "n = int(lista[0])\n",
        "m = int(lista[1])\n",
        "print(\"n=\",n)\n",
        "print(\"m=\",m)\n"
      ],
      "metadata": {
        "colab": {
          "base_uri": "https://localhost:8080/"
        },
        "id": "yYQT-ZwrOl8Y",
        "outputId": "b2538423-8a86-4976-9c22-5a7a86f0cf4b"
      },
      "execution_count": null,
      "outputs": [
        {
          "output_type": "stream",
          "name": "stdout",
          "text": [
            "n= 5\n",
            "m= 5\n"
          ]
        }
      ]
    },
    {
      "cell_type": "code",
      "source": [
        "archi_letti = []\n",
        "costi = []\n",
        "for i in range(m):   #range genera tutti i valori da 0 a m (escluso)\n",
        "  read_string = input.readline()\n",
        "  print(\"\\n\",read_string)\n",
        "  lista = read_string.split()\n",
        "  i = int(lista[0])\n",
        "  j = int(lista[1])\n",
        "  c = int(lista[2])\n",
        "  archi_letti += [[i,j]] #aggiungo [i,j] appena letti alla lista dei lati\n",
        "  costi += [c]\n",
        "  print(\"letto arco\", i,\"-\",j)\n",
        "print(archi_letti)\n",
        "print(costi)"
      ],
      "metadata": {
        "colab": {
          "base_uri": "https://localhost:8080/"
        },
        "id": "UJn7SP74_oim",
        "outputId": "06435089-9480-4a03-b79a-ad226eb96a05"
      },
      "execution_count": null,
      "outputs": [
        {
          "output_type": "stream",
          "name": "stdout",
          "text": [
            "\n",
            " 1 2 3\n",
            "\n",
            "letto arco 1 - 2\n",
            "\n",
            " 2 4 2\n",
            "\n",
            "letto arco 2 - 4\n",
            "\n",
            " 3 4 10\n",
            "\n",
            "letto arco 3 - 4\n",
            "\n",
            " 3 5 11\n",
            "\n",
            "letto arco 3 - 5\n",
            "\n",
            " 4 5 7\n",
            "letto arco 4 - 5\n",
            "[[1, 2], [2, 4], [3, 4], [3, 5], [4, 5]]\n",
            "[3, 2, 10, 11, 7]\n"
          ]
        }
      ]
    },
    {
      "cell_type": "code",
      "source": [
        "\n",
        "archi=[]\n",
        "for i in range(m):\n",
        "  archi += [\"a\"+str(archi_letti[i][0])+str(archi_letti[i][1])]\n",
        "print(archi)\n",
        "\n"
      ],
      "metadata": {
        "id": "n6zG4NrOxq7X",
        "colab": {
          "base_uri": "https://localhost:8080/"
        },
        "outputId": "3ccded45-a73f-4e8b-a211-503a905c3a26"
      },
      "execution_count": null,
      "outputs": [
        {
          "output_type": "stream",
          "name": "stdout",
          "text": [
            "['a12', 'a24', 'a34', 'a35', 'a45']\n"
          ]
        }
      ]
    },
    {
      "cell_type": "code",
      "source": [
        "COSTI = dict(zip(archi,costi))\n",
        "print(COSTI)"
      ],
      "metadata": {
        "colab": {
          "base_uri": "https://localhost:8080/"
        },
        "id": "UYO9Q0nRlKCZ",
        "outputId": "22fa754a-4503-45e0-fdee-003f97e1e8f4"
      },
      "execution_count": null,
      "outputs": [
        {
          "output_type": "stream",
          "name": "stdout",
          "text": [
            "{'a12': 3, 'a24': 2, 'a34': 10, 'a35': 11, 'a45': 7}\n"
          ]
        }
      ]
    },
    {
      "cell_type": "code",
      "source": [
        "COPPIE = dict(zip(archi,archi_letti))\n",
        "print(COPPIE)"
      ],
      "metadata": {
        "colab": {
          "base_uri": "https://localhost:8080/"
        },
        "id": "wBlb4b8-SE3h",
        "outputId": "171f6ed0-c5f3-4422-e02f-e34947da2e83"
      },
      "execution_count": null,
      "outputs": [
        {
          "output_type": "stream",
          "name": "stdout",
          "text": [
            "{'a12': [1, 2], 'a24': [2, 4], 'a34': [3, 4], 'a35': [3, 5], 'a45': [4, 5]}\n"
          ]
        }
      ]
    },
    {
      "cell_type": "code",
      "source": [
        "VERT = dict ()\n",
        "vertici=[]\n",
        "for i in range(n):\n",
        "  vertici += [\"vertex\"+str(i+1)]\n",
        "  VERT[\"vertex\"+str(i+1)] = i+1\n",
        "print(vertici)\n",
        "print(VERT)"
      ],
      "metadata": {
        "colab": {
          "base_uri": "https://localhost:8080/"
        },
        "id": "MoqZeDq23NdM",
        "outputId": "7636d064-948f-4b26-e92f-2238ca4b2c44"
      },
      "execution_count": null,
      "outputs": [
        {
          "output_type": "stream",
          "name": "stdout",
          "text": [
            "['vertex1', 'vertex2', 'vertex3', 'vertex4', 'vertex5']\n",
            "{'vertex1': 1, 'vertex2': 2, 'vertex3': 3, 'vertex4': 4, 'vertex5': 5}\n"
          ]
        }
      ]
    },
    {
      "cell_type": "markdown",
      "source": [
        "importiamo la libreria PYOMO"
      ],
      "metadata": {
        "id": "VMjGVKke3ifL"
      }
    },
    {
      "cell_type": "code",
      "source": [
        "from pyomo.environ import *"
      ],
      "metadata": {
        "id": "bjngliDb__X-"
      },
      "execution_count": null,
      "outputs": []
    },
    {
      "cell_type": "markdown",
      "source": [
        "Creiamo modello *concrete*"
      ],
      "metadata": {
        "id": "GXH9oAto3jRl"
      }
    },
    {
      "cell_type": "code",
      "source": [
        "SSP = ConcreteModel()  # chiamo il modello SSP\n",
        "\n",
        "\n",
        " \n"
      ],
      "metadata": {
        "id": "ljjN5Qgg3MDD"
      },
      "execution_count": null,
      "outputs": []
    },
    {
      "cell_type": "markdown",
      "source": [
        "Definiamo delle variabili binarie"
      ],
      "metadata": {
        "id": "4Zg99dCB30mG"
      }
    },
    {
      "cell_type": "code",
      "source": [
        "\n",
        "SSP.x = Var(archi, within=Binary)\n"
      ],
      "metadata": {
        "id": "SSUWjWmP3zdH"
      },
      "execution_count": null,
      "outputs": []
    },
    {
      "cell_type": "markdown",
      "source": [
        "Definiamo la funzione obiettivo ma per farlo definiamo una funzione che prende come argomento il modello (chiamato genericamente *mod*) che poi passiamo alla funzione obiettivo come *rule*"
      ],
      "metadata": {
        "id": "QCf53tAz3zM2"
      }
    },
    {
      "cell_type": "code",
      "source": [
        "def obj_rule(mod):\n",
        "    return sum(COSTI[a]*mod.x[a] for a in archi)\n",
        "SSP.obj = Objective(rule=obj_rule, sense = minimize )\n",
        "\n",
        "\n",
        "\n"
      ],
      "metadata": {
        "id": "3ocCq16O3FOV"
      },
      "execution_count": null,
      "outputs": []
    },
    {
      "cell_type": "markdown",
      "source": [
        "Allo stesso modo definiamo i vincoli. Innanzitutto definiamo una funzione che prende come argomento il modello (*mod*) e un parametro i (vertice). \n",
        "Scriviamo un vincolo per ogni vertice $i \\in vertici$.\n",
        "\n"
      ],
      "metadata": {
        "id": "rFhwCpTM3lOV"
      }
    },
    {
      "cell_type": "code",
      "source": [
        "\n",
        "\n",
        "def degree_rule(mod, i):\n",
        "    v=VERT[i]\n",
        "    if v==1:\n",
        "      return sum(mod.x[a] for a in archi if COPPIE[a][0]==v) == 1\n",
        "    if v==n:\n",
        "      return sum(mod.x[a] for a in archi if COPPIE[a][1]==v) == 1\n",
        "    else:\n",
        "      return sum(mod.x[a] for a in archi if COPPIE[a][0]==v) - sum(mod.x[a] for a in archi if COPPIE[a][1]==v)== 0\n",
        "\n",
        "SSP.degree_const = Constraint(vertici, rule=degree_rule)"
      ],
      "metadata": {
        "id": "feLBpP_x3E_N"
      },
      "execution_count": null,
      "outputs": []
    },
    {
      "cell_type": "code",
      "source": [
        "SolverFactory('glpk').solve(SSP, tee=True)"
      ],
      "metadata": {
        "id": "55XrsfMp3Es-",
        "colab": {
          "base_uri": "https://localhost:8080/"
        },
        "outputId": "7bb95269-2689-47c7-b133-39ca2005e959"
      },
      "execution_count": null,
      "outputs": [
        {
          "output_type": "stream",
          "name": "stdout",
          "text": [
            "GLPSOL: GLPK LP/MIP Solver, v4.65\n",
            "Parameter(s) specified in the command line:\n",
            " --write /tmp/tmpirmn2eqf.glpk.raw --wglp /tmp/tmp_tudk0y5.glpk.glp --cpxlp\n",
            " /tmp/tmpo_54a76o.pyomo.lp\n",
            "Reading problem data from '/tmp/tmpo_54a76o.pyomo.lp'...\n",
            "/tmp/tmpo_54a76o.pyomo.lp:48: warning: lower bound of variable 'x1' redefined\n",
            "/tmp/tmpo_54a76o.pyomo.lp:48: warning: upper bound of variable 'x1' redefined\n",
            "6 rows, 6 columns, 11 non-zeros\n",
            "5 integer variables, all of which are binary\n",
            "53 lines were read\n",
            "Writing problem data to '/tmp/tmp_tudk0y5.glpk.glp'...\n",
            "35 lines were written\n",
            "GLPK Integer Optimizer, v4.65\n",
            "6 rows, 6 columns, 11 non-zeros\n",
            "5 integer variables, all of which are binary\n",
            "Preprocessing...\n",
            "Objective value =   1.200000000e+01\n",
            "INTEGER OPTIMAL SOLUTION FOUND BY MIP PREPROCESSOR\n",
            "Time used:   0.0 secs\n",
            "Memory used: 0.0 Mb (39693 bytes)\n",
            "Writing MIP solution to '/tmp/tmpirmn2eqf.glpk.raw'...\n",
            "21 lines were written\n"
          ]
        },
        {
          "output_type": "execute_result",
          "data": {
            "text/plain": [
              "{'Problem': [{'Name': 'unknown', 'Lower bound': 12.0, 'Upper bound': 12.0, 'Number of objectives': 1, 'Number of constraints': 6, 'Number of variables': 6, 'Number of nonzeros': 11, 'Sense': 'minimize'}], 'Solver': [{'Status': 'ok', 'Termination condition': 'optimal', 'Statistics': {'Branch and bound': {'Number of bounded subproblems': 0, 'Number of created subproblems': 0}}, 'Error rc': 0, 'Time': 0.017414331436157227}], 'Solution': [OrderedDict([('number of solutions', 0), ('number of solutions displayed', 0)])]}"
            ]
          },
          "metadata": {},
          "execution_count": 28
        }
      ]
    },
    {
      "cell_type": "code",
      "source": [
        "SSP.pprint()"
      ],
      "metadata": {
        "id": "xxLyIv_1-VsA",
        "colab": {
          "base_uri": "https://localhost:8080/"
        },
        "outputId": "2542ee24-e29b-465d-cd7c-37dce887154b"
      },
      "execution_count": null,
      "outputs": [
        {
          "output_type": "stream",
          "name": "stdout",
          "text": [
            "2 Set Declarations\n",
            "    degree_const_index : Size=1, Index=None, Ordered=Insertion\n",
            "        Key  : Dimen : Domain : Size : Members\n",
            "        None :     1 :    Any :    5 : {'vertex1', 'vertex2', 'vertex3', 'vertex4', 'vertex5'}\n",
            "    x_index : Size=1, Index=None, Ordered=Insertion\n",
            "        Key  : Dimen : Domain : Size : Members\n",
            "        None :     1 :    Any :    5 : {'a12', 'a24', 'a34', 'a35', 'a45'}\n",
            "\n",
            "1 Var Declarations\n",
            "    x : Size=5, Index=x_index\n",
            "        Key : Lower : Value : Upper : Fixed : Stale : Domain\n",
            "        a12 :     0 :   1.0 :     1 : False : False : Binary\n",
            "        a24 :     0 :   1.0 :     1 : False : False : Binary\n",
            "        a34 :     0 :   0.0 :     1 : False : False : Binary\n",
            "        a35 :     0 :   0.0 :     1 : False : False : Binary\n",
            "        a45 :     0 :   1.0 :     1 : False : False : Binary\n",
            "\n",
            "1 Objective Declarations\n",
            "    obj : Size=1, Index=None, Active=True\n",
            "        Key  : Active : Sense    : Expression\n",
            "        None :   True : minimize : 3*x[a12] + 2*x[a24] + 10*x[a34] + 11*x[a35] + 7*x[a45]\n",
            "\n",
            "1 Constraint Declarations\n",
            "    degree_const : Size=5, Index=degree_const_index, Active=True\n",
            "        Key     : Lower : Body                       : Upper : Active\n",
            "        vertex1 :   1.0 :                     x[a12] :   1.0 :   True\n",
            "        vertex2 :   0.0 :            x[a24] - x[a12] :   0.0 :   True\n",
            "        vertex3 :   0.0 :            x[a34] + x[a35] :   0.0 :   True\n",
            "        vertex4 :   0.0 : x[a45] - (x[a24] + x[a34]) :   0.0 :   True\n",
            "        vertex5 :   1.0 :            x[a35] + x[a45] :   1.0 :   True\n",
            "\n",
            "5 Declarations: x_index x obj degree_const_index degree_const\n"
          ]
        }
      ]
    }
  ]
}