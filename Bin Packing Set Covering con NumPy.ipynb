{
  "nbformat": 4,
  "nbformat_minor": 0,
  "metadata": {
    "colab": {
      "provenance": []
    },
    "kernelspec": {
      "name": "python3",
      "display_name": "Python 3"
    },
    "language_info": {
      "name": "python"
    }
  },
  "cells": [
    {
      "cell_type": "markdown",
      "source": [
        "Ridefiniamo la lista dei riempimenti, ma lo facciamo scrivendo ogni riempimento di seguito per righe (per farlo per colonne avevamo dovuto usare excel...)"
      ],
      "metadata": {
        "id": "xFNCSKjtp91y"
      }
    },
    {
      "cell_type": "code",
      "source": [
        "\n",
        "\n",
        "riempimenti = [[1, 0, 0, 0, 0],\n",
        " [0, 1, 0, 0, 0],\n",
        " [0, 0, 1, 0, 0],\n",
        " [0, 0, 0, 1, 0],\n",
        " [0, 0, 0, 0, 1],\n",
        " [1, 0, 1, 0, 0],\n",
        " [0, 1, 1, 1, 0],\n",
        " [0, 1, 1, 0, 1],\n",
        " [0, 1, 1, 0, 0],\n",
        " [0, 1, 0, 1, 0],\n",
        " [0, 1, 0, 0, 1],\n",
        " [0, 0, 1, 1, 1],\n",
        " [0, 0, 1, 0, 1],\n",
        " [0, 0, 1, 1, 0],\n",
        " [0, 0, 0, 1, 1]]\n",
        "\n",
        "print(riempimenti)\n",
        "\n"
      ],
      "metadata": {
        "colab": {
          "base_uri": "https://localhost:8080/"
        },
        "id": "6tZwz73Hp897",
        "outputId": "0f8dcf53-3385-407c-f98f-872a4d37731e"
      },
      "execution_count": null,
      "outputs": [
        {
          "output_type": "stream",
          "name": "stdout",
          "text": [
            "[[1, 0, 0, 0, 0], [0, 1, 0, 0, 0], [0, 0, 1, 0, 0], [0, 0, 0, 1, 0], [0, 0, 0, 0, 1], [1, 0, 1, 0, 0], [0, 1, 1, 1, 0], [0, 1, 1, 0, 1], [0, 1, 1, 0, 0], [0, 1, 0, 1, 0], [0, 1, 0, 0, 1], [0, 0, 1, 1, 1], [0, 0, 1, 0, 1], [0, 0, 1, 1, 0], [0, 0, 0, 1, 1]]\n"
          ]
        }
      ]
    },
    {
      "cell_type": "markdown",
      "source": [
        "Importiamo la libreria NumPy che ci permette di manipolare e operare sulle matrici in modo più immediato. "
      ],
      "metadata": {
        "id": "OSh6Co0Au3JD"
      }
    },
    {
      "cell_type": "code",
      "source": [
        "import numpy as np"
      ],
      "metadata": {
        "id": "T7--f9rUu1HE"
      },
      "execution_count": null,
      "outputs": []
    },
    {
      "cell_type": "markdown",
      "source": [
        "Partendo dalla lista dei riempimenti, definiamo una matrice.\n",
        "Attenzione, *riempimenti* e *a_ij* sembrano uguali ma **non** lo sono! (controllare le virgole)."
      ],
      "metadata": {
        "id": "1PyKSk3xvCum"
      }
    },
    {
      "cell_type": "code",
      "source": [
        "a_ij = np.array(riempimenti)\n",
        "print(a_ij)"
      ],
      "metadata": {
        "colab": {
          "base_uri": "https://localhost:8080/"
        },
        "id": "ITzogRo2vM88",
        "outputId": "67ddc7d4-31aa-4366-d878-db158d50eb5c"
      },
      "execution_count": null,
      "outputs": [
        {
          "output_type": "stream",
          "name": "stdout",
          "text": [
            "[[1 0 0 0 0]\n",
            " [0 1 0 0 0]\n",
            " [0 0 1 0 0]\n",
            " [0 0 0 1 0]\n",
            " [0 0 0 0 1]\n",
            " [1 0 1 0 0]\n",
            " [0 1 1 1 0]\n",
            " [0 1 1 0 1]\n",
            " [0 1 1 0 0]\n",
            " [0 1 0 1 0]\n",
            " [0 1 0 0 1]\n",
            " [0 0 1 1 1]\n",
            " [0 0 1 0 1]\n",
            " [0 0 1 1 0]\n",
            " [0 0 0 1 1]]\n"
          ]
        }
      ]
    },
    {
      "cell_type": "markdown",
      "source": [
        "Posso accedere al singolo elemento della matrice. Che cosa stampa il comando di seguito?"
      ],
      "metadata": {
        "id": "U9hHgUDtvzUR"
      }
    },
    {
      "cell_type": "code",
      "source": [
        "print (a_ij[5][2])"
      ],
      "metadata": {
        "id": "52pexTXgvnCs",
        "colab": {
          "base_uri": "https://localhost:8080/"
        },
        "outputId": "13a4a98f-08a7-464b-9bb5-78f8bbd95d01"
      },
      "execution_count": null,
      "outputs": [
        {
          "output_type": "stream",
          "name": "stdout",
          "text": [
            "1\n"
          ]
        }
      ]
    },
    {
      "cell_type": "markdown",
      "source": [
        "Ricordate che vogliamo i riempimenti per colonne, non per righe. Basta fare la trasposta della matrice."
      ],
      "metadata": {
        "id": "yO6zQm7h2giI"
      }
    },
    {
      "cell_type": "code",
      "source": [
        "a_ij = np.transpose(a_ij)\n",
        "print (a_ij)"
      ],
      "metadata": {
        "colab": {
          "base_uri": "https://localhost:8080/"
        },
        "id": "Gl7BydZPwYhi",
        "outputId": "1d4f77af-d280-4ce7-c7eb-b2c62e5ea613"
      },
      "execution_count": null,
      "outputs": [
        {
          "output_type": "stream",
          "name": "stdout",
          "text": [
            "[[1 0 0 0 0 1 0 0 0 0 0 0 0 0 0]\n",
            " [0 1 0 0 0 0 1 1 1 1 1 0 0 0 0]\n",
            " [0 0 1 0 0 1 1 1 1 0 0 1 1 1 0]\n",
            " [0 0 0 1 0 0 1 0 0 1 0 1 0 1 1]\n",
            " [0 0 0 0 1 0 0 1 0 0 1 1 1 0 1]]\n"
          ]
        }
      ]
    },
    {
      "cell_type": "code",
      "source": [
        "import shutil\n",
        "import sys\n",
        "import os.path\n",
        "\n",
        "if not shutil.which(\"pyomo\"):\n",
        "    !pip install -q pyomo\n",
        "    assert(shutil.which(\"pyomo\"))\n",
        "\n",
        "if not (shutil.which(\"glpk\") or os.path.isfile(\"glpk\")):\n",
        "    if \"google.colab\" in sys.modules:\n",
        "        !apt-get install -y -qq glpk-utils\n",
        "    else:\n",
        "        try:\n",
        "            !conda install -c conda-forge glpk \n",
        "        except:\n",
        "            pass"
      ],
      "metadata": {
        "id": "NTavC31C-YnI",
        "colab": {
          "base_uri": "https://localhost:8080/"
        },
        "outputId": "44155935-4fc5-41dc-9d6b-585bde81325c"
      },
      "execution_count": null,
      "outputs": [
        {
          "output_type": "stream",
          "name": "stdout",
          "text": [
            "\u001b[2K     \u001b[90m━━━━━━━━━━━━━━━━━━━━━━━━━━━━━━━━━━━━━━━━\u001b[0m \u001b[32m11.0/11.0 MB\u001b[0m \u001b[31m75.2 MB/s\u001b[0m eta \u001b[36m0:00:00\u001b[0m\n",
            "\u001b[2K     \u001b[90m━━━━━━━━━━━━━━━━━━━━━━━━━━━━━━━━━━━━━━━━\u001b[0m \u001b[32m49.6/49.6 KB\u001b[0m \u001b[31m6.0 MB/s\u001b[0m eta \u001b[36m0:00:00\u001b[0m\n",
            "\u001b[?25hSelecting previously unselected package libsuitesparseconfig5:amd64.\n",
            "(Reading database ... 128285 files and directories currently installed.)\n",
            "Preparing to unpack .../libsuitesparseconfig5_1%3a5.7.1+dfsg-2_amd64.deb ...\n",
            "Unpacking libsuitesparseconfig5:amd64 (1:5.7.1+dfsg-2) ...\n",
            "Selecting previously unselected package libamd2:amd64.\n",
            "Preparing to unpack .../libamd2_1%3a5.7.1+dfsg-2_amd64.deb ...\n",
            "Unpacking libamd2:amd64 (1:5.7.1+dfsg-2) ...\n",
            "Selecting previously unselected package libcolamd2:amd64.\n",
            "Preparing to unpack .../libcolamd2_1%3a5.7.1+dfsg-2_amd64.deb ...\n",
            "Unpacking libcolamd2:amd64 (1:5.7.1+dfsg-2) ...\n",
            "Selecting previously unselected package libglpk40:amd64.\n",
            "Preparing to unpack .../libglpk40_4.65-2_amd64.deb ...\n",
            "Unpacking libglpk40:amd64 (4.65-2) ...\n",
            "Selecting previously unselected package glpk-utils.\n",
            "Preparing to unpack .../glpk-utils_4.65-2_amd64.deb ...\n",
            "Unpacking glpk-utils (4.65-2) ...\n",
            "Setting up libsuitesparseconfig5:amd64 (1:5.7.1+dfsg-2) ...\n",
            "Setting up libamd2:amd64 (1:5.7.1+dfsg-2) ...\n",
            "Setting up libcolamd2:amd64 (1:5.7.1+dfsg-2) ...\n",
            "Setting up libglpk40:amd64 (4.65-2) ...\n",
            "Setting up glpk-utils (4.65-2) ...\n",
            "Processing triggers for man-db (2.9.1-1) ...\n",
            "Processing triggers for libc-bin (2.31-0ubuntu9.9) ...\n"
          ]
        }
      ]
    },
    {
      "cell_type": "markdown",
      "source": [
        "Vogliamo scrivere un generico modello di set covering con $n$ colonne ed $m$ righe: \n",
        "\n",
        "$\\min c^t x$\n",
        "\n",
        "$Ax \\ge \\bf{1}$\n",
        "\n",
        "$x \\in \\{0,1\\}^n$\n",
        "\n",
        "Più in esplicito:\n",
        "\n",
        "Modello ILP:\n",
        "\n",
        "$\\min \\sum_{j=1,\\dots,n} c_j x_j$\n",
        "\n",
        "$ \\sum_{j=1,\\dots,n} a_{ij} x_j \\ge 1 ~~~ i=1,\\dots,m$ \n",
        "\n",
        "$x_j \\in\\{0,1\\}~~~j=1,\\dots,n$"
      ],
      "metadata": {
        "id": "WFI1xyUH25ff"
      }
    },
    {
      "cell_type": "markdown",
      "source": [
        "Consideriamo un'istanza in cui abbiamo una riga per ogni oggetto dell'istanza di BPP considerata ieri, tutte le colonne hanno costo pari a $1$, e ogni colonna rappresenta un codifica binaria di un riempimento ammissibile di un bin. Ad esempio, $[0,1,1,0,0]^t$ rappresenta il riempimento che contiene gli oggetti $2$ e $3$.\n",
        "\n",
        "Istanze BPP: 5 items, pesi $[7,4,1,4,4]$, $W=10$."
      ],
      "metadata": {
        "id": "J734BnDhZEH0"
      }
    },
    {
      "cell_type": "code",
      "execution_count": null,
      "metadata": {
        "id": "OQNJ1pEczZBb"
      },
      "outputs": [],
      "source": [
        "# dati\n",
        "\n",
        "RIGHE = ['riga_1', 'riga_2', 'riga_3', 'riga_4', 'riga_5'] \n",
        "#settimana scorsa erano \"materie prime\" M\n",
        "\n",
        "\n",
        "\n",
        " "
      ]
    },
    {
      "cell_type": "code",
      "source": [
        "COLONNE = ['c01','c02','c03','c04','c05','c06','c07','c08','c09','c10','c11','c12','c13','c14', 'c15'] \n",
        "#settimana scorsa erano \"prodotti\" P"
      ],
      "metadata": {
        "id": "huvjbFvWaJU1"
      },
      "execution_count": null,
      "outputs": []
    },
    {
      "cell_type": "markdown",
      "source": [
        "importiamo la libreria PYOMO"
      ],
      "metadata": {
        "id": "VMjGVKke3ifL"
      }
    },
    {
      "cell_type": "code",
      "source": [
        "from pyomo.environ import *"
      ],
      "metadata": {
        "id": "bjngliDb__X-"
      },
      "execution_count": null,
      "outputs": []
    },
    {
      "cell_type": "markdown",
      "source": [
        "Creiamo modello *concrete*"
      ],
      "metadata": {
        "id": "GXH9oAto3jRl"
      }
    },
    {
      "cell_type": "code",
      "source": [
        "setcov = ConcreteModel()  # chiamo il modello setcov\n",
        "\n",
        "\n",
        " \n"
      ],
      "metadata": {
        "id": "ljjN5Qgg3MDD"
      },
      "execution_count": null,
      "outputs": []
    },
    {
      "cell_type": "markdown",
      "source": [
        "Definiamo delle variabili binarie"
      ],
      "metadata": {
        "id": "4Zg99dCB30mG"
      }
    },
    {
      "cell_type": "code",
      "source": [
        "setcov.x = Var(COLONNE, within=Binary)"
      ],
      "metadata": {
        "id": "SSUWjWmP3zdH"
      },
      "execution_count": null,
      "outputs": []
    },
    {
      "cell_type": "markdown",
      "source": [
        "Definiamo la funzione obiettivo ma per farlo definiamo una funzione prende come argomento il modello (chiamato genericamente *mod*) che poi passiamo alla funzione obiettivo come *rule*"
      ],
      "metadata": {
        "id": "QCf53tAz3zM2"
      }
    },
    {
      "cell_type": "code",
      "source": [
        "def obj_rule(mod):\n",
        "    return sum(mod.x[p] for p in COLONNE)\n",
        "setcov.obj = Objective(rule=obj_rule, sense = minimize )\n",
        "\n",
        "\n",
        "\n"
      ],
      "metadata": {
        "id": "3ocCq16O3FOV"
      },
      "execution_count": null,
      "outputs": []
    },
    {
      "cell_type": "markdown",
      "source": [
        "Allo stesso modo definiamo i vincoli. Innanzitutto definiamo una funzione che prende come argomento il modello (*mod*) e un parametro *m*. \n",
        "\n",
        "Attenzione: abbiamo un vincolo per ogni riga, cioé per ogni elemento $r$ della lista $RIGHE$. Il vincolo, definito dalla *rule*, somma su tutte le colonne $c \\in COLONNE$\n",
        "\n",
        "Attenzione: gli elementi della lista righe si chiamano *riga1, riga2,...*; gli elementi della lista colonne si chiamano *c01, c02,...* mentre per accedere correttamente alla matrice *a_ij* dobbiamo specificare gli indici corrispondenti di riga e colonna. Possiamo recuperare l'indice di un elemento *e* in una *LISTA* con comando *LISTA.idex(e)*"
      ],
      "metadata": {
        "id": "rFhwCpTM3lOV"
      }
    },
    {
      "cell_type": "code",
      "source": [
        "def cover_rule(mod, r):\n",
        "    return sum(a_ij[RIGHE.index(r)][COLONNE.index(c)]*mod.x[c] for c in COLONNE) >= 1\n",
        "setcov.cover_const = Constraint(RIGHE, rule=cover_rule)"
      ],
      "metadata": {
        "id": "feLBpP_x3E_N"
      },
      "execution_count": null,
      "outputs": []
    },
    {
      "cell_type": "code",
      "source": [
        "SolverFactory('glpk').solve(setcov, tee=True)"
      ],
      "metadata": {
        "id": "55XrsfMp3Es-",
        "colab": {
          "base_uri": "https://localhost:8080/"
        },
        "outputId": "da2b3f06-8e21-41d9-cba5-6a8d4c0f7ddd"
      },
      "execution_count": null,
      "outputs": [
        {
          "output_type": "stream",
          "name": "stdout",
          "text": [
            "GLPSOL: GLPK LP/MIP Solver, v4.65\n",
            "Parameter(s) specified in the command line:\n",
            " --write /tmp/tmp46eu4j8a.glpk.raw --wglp /tmp/tmph8l24epd.glpk.glp --cpxlp\n",
            " /tmp/tmpestcc6bx.pyomo.lp\n",
            "Reading problem data from '/tmp/tmpestcc6bx.pyomo.lp'...\n",
            "/tmp/tmpestcc6bx.pyomo.lp:86: warning: lower bound of variable 'x1' redefined\n",
            "/tmp/tmpestcc6bx.pyomo.lp:86: warning: upper bound of variable 'x1' redefined\n",
            "6 rows, 16 columns, 29 non-zeros\n",
            "15 integer variables, all of which are binary\n",
            "101 lines were read\n",
            "Writing problem data to '/tmp/tmph8l24epd.glpk.glp'...\n",
            "76 lines were written\n",
            "GLPK Integer Optimizer, v4.65\n",
            "6 rows, 16 columns, 29 non-zeros\n",
            "15 integer variables, all of which are binary\n",
            "Preprocessing...\n",
            "1 hidden packing inequaliti(es) were detected\n",
            "5 rows, 15 columns, 28 non-zeros\n",
            "15 integer variables, all of which are binary\n",
            "Scaling...\n",
            " A: min|aij| =  1.000e+00  max|aij| =  1.000e+00  ratio =  1.000e+00\n",
            "Problem data seem to be well scaled\n",
            "Constructing initial basis...\n",
            "Size of triangular part is 5\n",
            "Solving LP relaxation...\n",
            "GLPK Simplex Optimizer, v4.65\n",
            "5 rows, 15 columns, 28 non-zeros\n",
            "      0: obj =   0.000000000e+00 inf =   5.000e+00 (5)\n",
            "      3: obj =   3.000000000e+00 inf =   0.000e+00 (0)\n",
            "*     8: obj =   2.500000000e+00 inf =   0.000e+00 (0)\n",
            "OPTIMAL LP SOLUTION FOUND\n",
            "Integer optimization begins...\n",
            "Long-step dual simplex will be used\n",
            "+     8: mip =     not found yet >=              -inf        (1; 0)\n",
            "Solution found by heuristic: 4\n",
            "+    12: >>>>>   3.000000000e+00 >=   3.000000000e+00   0.0% (4; 0)\n",
            "+    12: mip =   3.000000000e+00 >=     tree is empty   0.0% (0; 7)\n",
            "INTEGER OPTIMAL SOLUTION FOUND\n",
            "Time used:   0.0 secs\n",
            "Memory used: 0.1 Mb (67301 bytes)\n",
            "Writing MIP solution to '/tmp/tmp46eu4j8a.glpk.raw'...\n",
            "31 lines were written\n"
          ]
        },
        {
          "output_type": "execute_result",
          "data": {
            "text/plain": [
              "{'Problem': [{'Name': 'unknown', 'Lower bound': 3.0, 'Upper bound': 3.0, 'Number of objectives': 1, 'Number of constraints': 6, 'Number of variables': 16, 'Number of nonzeros': 29, 'Sense': 'minimize'}], 'Solver': [{'Status': 'ok', 'Termination condition': 'optimal', 'Statistics': {'Branch and bound': {'Number of bounded subproblems': '7', 'Number of created subproblems': '7'}}, 'Error rc': 0, 'Time': 0.011518239974975586}], 'Solution': [OrderedDict([('number of solutions', 0), ('number of solutions displayed', 0)])]}"
            ]
          },
          "metadata": {},
          "execution_count": 27
        }
      ]
    },
    {
      "cell_type": "code",
      "source": [
        "setcov.pprint()"
      ],
      "metadata": {
        "id": "xxLyIv_1-VsA",
        "colab": {
          "base_uri": "https://localhost:8080/"
        },
        "outputId": "ed475757-bd09-4aab-9aab-83ef9f9ee3fe"
      },
      "execution_count": null,
      "outputs": [
        {
          "output_type": "stream",
          "name": "stdout",
          "text": [
            "2 Set Declarations\n",
            "    cover_const_index : Size=1, Index=None, Ordered=Insertion\n",
            "        Key  : Dimen : Domain : Size : Members\n",
            "        None :     1 :    Any :    5 : {'riga_1', 'riga_2', 'riga_3', 'riga_4', 'riga_5'}\n",
            "    x_index : Size=1, Index=None, Ordered=Insertion\n",
            "        Key  : Dimen : Domain : Size : Members\n",
            "        None :     1 :    Any :   15 : {'c01', 'c02', 'c03', 'c04', 'c05', 'c06', 'c07', 'c08', 'c09', 'c10', 'c11', 'c12', 'c13', 'c14', 'c15'}\n",
            "\n",
            "1 Var Declarations\n",
            "    x : Size=15, Index=x_index\n",
            "        Key : Lower : Value : Upper : Fixed : Stale : Domain\n",
            "        c01 :     0 :   1.0 :     1 : False : False : Binary\n",
            "        c02 :     0 :   0.0 :     1 : False : False : Binary\n",
            "        c03 :     0 :   0.0 :     1 : False : False : Binary\n",
            "        c04 :     0 :   0.0 :     1 : False : False : Binary\n",
            "        c05 :     0 :   0.0 :     1 : False : False : Binary\n",
            "        c06 :     0 :   0.0 :     1 : False : False : Binary\n",
            "        c07 :     0 :   1.0 :     1 : False : False : Binary\n",
            "        c08 :     0 :   0.0 :     1 : False : False : Binary\n",
            "        c09 :     0 :   0.0 :     1 : False : False : Binary\n",
            "        c10 :     0 :   0.0 :     1 : False : False : Binary\n",
            "        c11 :     0 :   0.0 :     1 : False : False : Binary\n",
            "        c12 :     0 :   0.0 :     1 : False : False : Binary\n",
            "        c13 :     0 :   0.0 :     1 : False : False : Binary\n",
            "        c14 :     0 :   0.0 :     1 : False : False : Binary\n",
            "        c15 :     0 :   1.0 :     1 : False : False : Binary\n",
            "\n",
            "1 Objective Declarations\n",
            "    obj : Size=1, Index=None, Active=True\n",
            "        Key  : Active : Sense    : Expression\n",
            "        None :   True : minimize : x[c01] + x[c02] + x[c03] + x[c04] + x[c05] + x[c06] + x[c07] + x[c08] + x[c09] + x[c10] + x[c11] + x[c12] + x[c13] + x[c14] + x[c15]\n",
            "\n",
            "1 Constraint Declarations\n",
            "    cover_const : Size=5, Index=cover_const_index, Active=True\n",
            "        Key    : Lower : Body                                                                  : Upper : Active\n",
            "        riga_1 :   1.0 :                                                       x[c01] + x[c06] :  +Inf :   True\n",
            "        riga_2 :   1.0 :                   x[c02] + x[c07] + x[c08] + x[c09] + x[c10] + x[c11] :  +Inf :   True\n",
            "        riga_3 :   1.0 : x[c03] + x[c06] + x[c07] + x[c08] + x[c09] + x[c12] + x[c13] + x[c14] :  +Inf :   True\n",
            "        riga_4 :   1.0 :                   x[c04] + x[c07] + x[c10] + x[c12] + x[c14] + x[c15] :  +Inf :   True\n",
            "        riga_5 :   1.0 :                   x[c05] + x[c08] + x[c11] + x[c12] + x[c13] + x[c15] :  +Inf :   True\n",
            "\n",
            "5 Declarations: x_index x obj cover_const_index cover_const\n"
          ]
        }
      ]
    },
    {
      "cell_type": "markdown",
      "source": [
        "In generale, la libreria NumPy implementa le più comuni operazioni su matrici. Oltre alla creazione con *array*, possiamo creare una matrice di zeri con 3 righe e 4 colonne."
      ],
      "metadata": {
        "id": "qIcRjqCN3cwM"
      }
    },
    {
      "cell_type": "code",
      "source": [
        "a = np.array([[1, 2, 3, 4], [1, 1, 0, 4],[0, 0, 0, 1]])\n",
        "matrice_di_zeri = np.zeros((3, 4))\n",
        "print(\"a=\\n\",a)\n",
        "print(\"\\n\")\n",
        "print(\"matrice_di_zeri=\\n\", matrice_di_zeri)\n"
      ],
      "metadata": {
        "id": "0UPstP7u4C9I",
        "colab": {
          "base_uri": "https://localhost:8080/"
        },
        "outputId": "8133642c-ecb1-4749-8919-7a7a9bbd4fb9"
      },
      "execution_count": null,
      "outputs": [
        {
          "output_type": "stream",
          "name": "stdout",
          "text": [
            "a=\n",
            " [[1 2 3 4]\n",
            " [1 1 0 4]\n",
            " [0 0 0 1]]\n",
            "\n",
            "\n",
            "matrice_di_zeri=\n",
            " [[0. 0. 0. 0.]\n",
            " [0. 0. 0. 0.]\n",
            " [0. 0. 0. 0.]]\n"
          ]
        }
      ]
    },
    {
      "cell_type": "markdown",
      "source": [
        "Sommare due matrici elemento per elemento, fare il prodotto di due matrici elemento per elemento."
      ],
      "metadata": {
        "id": "1hP1MK9G5UJQ"
      }
    },
    {
      "cell_type": "code",
      "source": [
        "b=  np.array([[1, 1, 1, 1], [1, 1, 1, 1],[2, 2, 2, 2]])\n",
        "print (\"somma:\\n\",a+b)\n",
        "print (\"\\n prodotto (NB: questo non è il prodotto di matrici!):\\n\",a*b)"
      ],
      "metadata": {
        "colab": {
          "base_uri": "https://localhost:8080/"
        },
        "id": "8aLMTVWv5c8h",
        "outputId": "d2a7eec2-094d-4669-c0e8-eccc7d31bed0"
      },
      "execution_count": null,
      "outputs": [
        {
          "output_type": "stream",
          "name": "stdout",
          "text": [
            "somma:\n",
            " [[2 3 4 5]\n",
            " [2 2 1 5]\n",
            " [2 2 2 3]]\n",
            "\n",
            " prodotto (NB: questo non è il prodotto di matrici!):\n",
            " [[1 2 3 4]\n",
            " [1 1 0 4]\n",
            " [0 0 0 2]]\n"
          ]
        }
      ]
    },
    {
      "cell_type": "markdown",
      "source": [
        "Prodotto di matrici:"
      ],
      "metadata": {
        "id": "b-z8ND4m6TdC"
      }
    },
    {
      "cell_type": "code",
      "source": [
        "bT = np.transpose(b)\n",
        "print (\"a=\\n\",a)\n",
        "print (\"\\n b =\\n\",b)\n",
        "print (\"\\n bT =\\n\",bT)\n",
        "print (\"\\n prodotto di matrici:\\n\",a.dot(bT))"
      ],
      "metadata": {
        "colab": {
          "base_uri": "https://localhost:8080/"
        },
        "id": "lGNOIlqI6XUV",
        "outputId": "af5ed419-bf42-49b0-9c7c-1e4ff0abf680"
      },
      "execution_count": null,
      "outputs": [
        {
          "output_type": "stream",
          "name": "stdout",
          "text": [
            "a=\n",
            " [[1 2 3 4]\n",
            " [1 1 0 4]\n",
            " [0 0 0 1]]\n",
            "\n",
            " b =\n",
            " [[1 1 1 1]\n",
            " [1 1 1 1]\n",
            " [2 2 2 2]]\n",
            "\n",
            " bT =\n",
            " [[1 1 2]\n",
            " [1 1 2]\n",
            " [1 1 2]\n",
            " [1 1 2]]\n",
            "\n",
            " prodotto di matrici:\n",
            " [[10 10 20]\n",
            " [ 6  6 12]\n",
            " [ 1  1  2]]\n"
          ]
        }
      ]
    },
    {
      "cell_type": "markdown",
      "source": [
        "Possiamo modificare la forma (shape) delle matrici."
      ],
      "metadata": {
        "id": "lrpbHQa48JCW"
      }
    },
    {
      "cell_type": "code",
      "source": [
        "new_a = a.reshape(6,2)\n",
        "print (new_a)"
      ],
      "metadata": {
        "colab": {
          "base_uri": "https://localhost:8080/"
        },
        "id": "40lIvxj28ciH",
        "outputId": "7a1b4a89-abc3-444d-fd6d-bd808faabf39"
      },
      "execution_count": null,
      "outputs": [
        {
          "output_type": "stream",
          "name": "stdout",
          "text": [
            "[[1 2]\n",
            " [3 4]\n",
            " [1 1]\n",
            " [0 4]\n",
            " [0 0]\n",
            " [0 1]]\n"
          ]
        }
      ]
    },
    {
      "cell_type": "markdown",
      "source": [],
      "metadata": {
        "id": "-_zRY0rk8z3_"
      }
    },
    {
      "cell_type": "markdown",
      "source": [
        "Appiattire la matrice."
      ],
      "metadata": {
        "id": "52qtpVFn81ce"
      }
    },
    {
      "cell_type": "code",
      "source": [
        "print (a.ravel())"
      ],
      "metadata": {
        "colab": {
          "base_uri": "https://localhost:8080/"
        },
        "id": "qyZdWNE88pJU",
        "outputId": "2677c542-4f1b-430b-a73a-9b6f9621e803"
      },
      "execution_count": null,
      "outputs": [
        {
          "output_type": "stream",
          "name": "stdout",
          "text": [
            "[1 2 3 4 1 1 0 4 0 0 0 1]\n"
          ]
        }
      ]
    },
    {
      "cell_type": "markdown",
      "source": [
        "E fare tante altre operazioni come descritto nella documentazione [https://numpy.org/doc/stable/user/quickstart.html](https://numpy.org/doc/stable/user/quickstart.html)"
      ],
      "metadata": {
        "id": "o0d0_Mf28-DN"
      }
    },
    {
      "cell_type": "code",
      "source": [],
      "metadata": {
        "id": "OV7V-XrM9Hxa"
      },
      "execution_count": null,
      "outputs": []
    }
  ]
}