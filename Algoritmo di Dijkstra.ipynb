{
  "nbformat": 4,
  "nbformat_minor": 0,
  "metadata": {
    "colab": {
      "provenance": []
    },
    "kernelspec": {
      "name": "python3",
      "display_name": "Python 3"
    },
    "language_info": {
      "name": "python"
    }
  },
  "cells": [
    {
      "cell_type": "code",
      "source": [
        "import shutil\n",
        "import sys\n",
        "import os.path\n"
      ],
      "metadata": {
        "id": "NTavC31C-YnI"
      },
      "execution_count": null,
      "outputs": []
    },
    {
      "cell_type": "markdown",
      "source": [
        "Vogliamo risolvere il problema del cammino minimo da *s* a *t* dato un insieme di vertici su grafo  **orientato** $G=(V,A)$ usando l'algoritmo di Dijkstra.\n",
        "\n",
        "Definiamo $S$ come insieme dei vertici visitati in modo definitivo. Per ogni vertice $j$ ci memorizzeremo due etichette: $L(j)$ è la lunghezza del cammino più breve da $s$ a $t$, $P(j)$ è il predecessore del vertice nel cammino.\n",
        "\n",
        "- Inizializzazione.\n",
        "Poniamo $S=\\{s\\}$, $P(s)=0$, $L(s)=0$.\n",
        "Poniamo $L(i)=distanza(1,i)$ e $P(i)=1$ per tutti i vertici (la distanza sarà ∞ per i vertici non adiacenti ad $s$).\n",
        "\n",
        "- Assegnazione etichetta permanente.\n",
        "Se $L(i)=$ ∞ per ogni $i \\notin S$, STOP.\n",
        "Troviamo $j  \\notin S$ tale che $L(j)=min \\, L(i)$ con $i \\notin S$. \n",
        "Poniamo $S=S\\cup \\{j\\}$. Se $j=t$, STOP.\n",
        "\n",
        "- Assegnazione etichetta provvisoria.\n",
        "Per ogni  $i \\notin S$, adiacente a $j$ e tale che $L(i)>L(j)+distanza(j,i)$ poniamo:\n",
        "$L(i)=L(j)+distanza(j,i)$ e \n",
        "$P(i)=j$. Andiamo al passo precedente.\n"
      ],
      "metadata": {
        "id": "WFI1xyUH25ff"
      }
    },
    {
      "cell_type": "code",
      "execution_count": null,
      "metadata": {
        "id": "OQNJ1pEczZBb",
        "colab": {
          "base_uri": "https://localhost:8080/"
        },
        "outputId": "750c4275-45cf-4112-b444-47e8e31a2437"
      },
      "outputs": [
        {
          "output_type": "stream",
          "name": "stdout",
          "text": [
            "Mounted at /content/gdrive/\n",
            "'Colab Notebooks'   grafo_pesato.txt   grafo.txt\n"
          ]
        }
      ],
      "source": [
        "# mount del file che contiene i dati\n",
        "\n",
        "from google.colab import drive\n",
        "drive.mount(\"/content/gdrive/\",force_remount=True)\n",
        "#verifico cosa c'e' in \"My Drive\"\n",
        "!ls /content/gdrive/\"My Drive\"/\n",
        "\n",
        "\n",
        " "
      ]
    },
    {
      "cell_type": "markdown",
      "source": [
        "chiamo io *input* il file che ho aperto in lettura"
      ],
      "metadata": {
        "id": "XdS8G4Y19MYW"
      }
    },
    {
      "cell_type": "code",
      "source": [
        "input = open(\"/content/gdrive/My Drive/grafo_pesato.txt\", \"r\")"
      ],
      "metadata": {
        "id": "SmgjwIDNN9qp"
      },
      "execution_count": null,
      "outputs": []
    },
    {
      "cell_type": "markdown",
      "source": [
        "*read_string* è il nome che uso per memorizzare la stringa letta; *readline()* è il metodo che uso per leggere una riga dal *input*"
      ],
      "metadata": {
        "id": "X87B1QHa-iMB"
      }
    },
    {
      "cell_type": "code",
      "source": [
        "read_string = input.readline()\n",
        "lista = read_string.split()  #split() mi separa i termini della stringa read_string\n",
        "n = int(lista[0])\n",
        "m = int(lista[1])\n",
        "print(\"n=\",n)\n",
        "print(\"m=\",m)\n"
      ],
      "metadata": {
        "colab": {
          "base_uri": "https://localhost:8080/"
        },
        "id": "yYQT-ZwrOl8Y",
        "outputId": "0134e5dd-abd5-4cbd-af84-309ba7664827"
      },
      "execution_count": null,
      "outputs": [
        {
          "output_type": "stream",
          "name": "stdout",
          "text": [
            "n= 5\n",
            "m= 5\n"
          ]
        }
      ]
    },
    {
      "cell_type": "code",
      "source": [
        "archi_letti = []\n",
        "costi = []\n",
        "for i in range(m):   #range genera tutti i valori da 0 a m (escluso)\n",
        "  read_string = input.readline()\n",
        "  print(\"\\n\",read_string)\n",
        "  lista = read_string.split()\n",
        "  i = int(lista[0])\n",
        "  j = int(lista[1])\n",
        "  c = int(lista[2])\n",
        "  archi_letti += [[i,j]] #aggiungo [i,j] appena letti alla lista dei lati\n",
        "  costi += [c]\n",
        "  print(\"letto arco\", i,\"-\",j)\n",
        "print(archi_letti)\n",
        "print(costi)"
      ],
      "metadata": {
        "colab": {
          "base_uri": "https://localhost:8080/"
        },
        "id": "UJn7SP74_oim",
        "outputId": "98d72bd2-87da-4359-8e39-2357b34363a1"
      },
      "execution_count": null,
      "outputs": [
        {
          "output_type": "stream",
          "name": "stdout",
          "text": [
            "\n",
            " 1 2 3\n",
            "\n",
            "letto arco 1 - 2\n",
            "\n",
            " 2 4 2\n",
            "\n",
            "letto arco 2 - 4\n",
            "\n",
            " 3 4 10\n",
            "\n",
            "letto arco 3 - 4\n",
            "\n",
            " 3 5 11\n",
            "\n",
            "letto arco 3 - 5\n",
            "\n",
            " 4 5 7\n",
            "letto arco 4 - 5\n",
            "[[1, 2], [2, 4], [3, 4], [3, 5], [4, 5]]\n",
            "[3, 2, 10, 11, 7]\n"
          ]
        }
      ]
    },
    {
      "cell_type": "markdown",
      "source": [
        "Se abbiamo $n$ vertici, chiamiamo il primo 1 e l'ultimo $n$. Attenzione perché se usiamo delle liste la prima posizione è la numero 0. Definiremo sempre liste di dimensione $n$ e accederemo alla posizione corretta: se ci interessa il vertice $i$, accederemo alla posizione $i-1$"
      ],
      "metadata": {
        "id": "KfQi-KiQmnNB"
      }
    },
    {
      "cell_type": "code",
      "source": [
        "S=[]\n",
        "P=[]\n",
        "l=[]\n",
        "for i in range(n):\n",
        "  S +=[0]\n",
        "  P +=[0]\n",
        "  l +=[0.0]\n",
        "print (S,l,P)"
      ],
      "metadata": {
        "colab": {
          "base_uri": "https://localhost:8080/"
        },
        "id": "HJViR54enASh",
        "outputId": "c35d0eba-c4b8-4ade-f698-4ccaf1b73243"
      },
      "execution_count": null,
      "outputs": [
        {
          "output_type": "stream",
          "name": "stdout",
          "text": [
            "[0, 0, 0, 0, 0] [0.0, 0.0, 0.0, 0.0, 0.0] [0, 0, 0, 0, 0]\n"
          ]
        }
      ]
    },
    {
      "cell_type": "code",
      "source": [
        "S[0]=1"
      ],
      "metadata": {
        "id": "QZSVo_XfnfCy"
      },
      "execution_count": null,
      "outputs": []
    },
    {
      "cell_type": "code",
      "source": [
        "def distance(i,j):\n",
        "  for l in range(m):\n",
        "    if (i+1 == archi_letti[l][0] and j+1 == archi_letti[l][1]):\n",
        "      return costi[l]\n",
        "  return 99999\n"
      ],
      "metadata": {
        "id": "STsBTIVBrRH0"
      },
      "execution_count": null,
      "outputs": []
    },
    {
      "cell_type": "code",
      "source": [
        "for i in range(n):\n",
        "  if (i != 0):\n",
        "    S[i] =0\n",
        "    P[i] = 0\n",
        "    l[i] = distance(0,i)\n",
        "    print (\"\\n\",i, distance(0,i))\n",
        "print (S,l,P)"
      ],
      "metadata": {
        "id": "26SLjEmJpstf",
        "colab": {
          "base_uri": "https://localhost:8080/"
        },
        "outputId": "b713706e-0ab5-47f5-8136-b6b536072378"
      },
      "execution_count": null,
      "outputs": [
        {
          "output_type": "stream",
          "name": "stdout",
          "text": [
            "\n",
            " 1 3\n",
            "\n",
            " 2 999\n",
            "\n",
            " 3 999\n",
            "\n",
            " 4 999\n",
            "[1, 0, 0, 0, 0] [0.0, 3, 999, 999, 999] [0, 0, 0, 0, 0]\n"
          ]
        }
      ]
    },
    {
      "cell_type": "code",
      "source": [
        "def min_dist():\n",
        "  min = 99999\n",
        "  imin = -1\n",
        "  for i in range(n): \n",
        "    if S[i]==0:\n",
        "      if l[i]<min:\n",
        "        min = l[i]\n",
        "        imin = i\n",
        "  return imin"
      ],
      "metadata": {
        "id": "MLFubf2Y0DTk"
      },
      "execution_count": null,
      "outputs": []
    },
    {
      "cell_type": "code",
      "source": [
        "while (S[n-1]==0):\n",
        "  next = min_dist()\n",
        "  if next <0:\n",
        "    print(\"Non esiste cammino tra sorgente e terminale!\")\n",
        "    break\n",
        "  S[next]=1\n",
        "  for i in range(n):  \n",
        "    if i != next and S[i]==0:\n",
        "      if distance(next,i) + l[next] < l[i]:\n",
        "        l[i] = distance(next,i) + l[next]\n",
        "        P[i] = next\n"
      ],
      "metadata": {
        "id": "tLX22p1R0DxI"
      },
      "execution_count": null,
      "outputs": []
    },
    {
      "cell_type": "code",
      "source": [
        "for i in range(n):\n",
        "  print(\"vertex:\",i+1,\"pred:\",P[i]+1,\"length:\",l[i])"
      ],
      "metadata": {
        "colab": {
          "base_uri": "https://localhost:8080/"
        },
        "id": "mgE4z9kB4MEU",
        "outputId": "749e1928-a90c-47cf-a750-bd7a1b5f7219"
      },
      "execution_count": null,
      "outputs": [
        {
          "output_type": "stream",
          "name": "stdout",
          "text": [
            "vertex: 1 pred: 1 length: 0.0\n",
            "vertex: 2 pred: 1 length: 3\n",
            "vertex: 3 pred: 1 length: 999\n",
            "vertex: 4 pred: 2 length: 5\n",
            "vertex: 5 pred: 4 length: 12\n"
          ]
        }
      ]
    },
    {
      "cell_type": "markdown",
      "source": [
        "To do:\n",
        "\n",
        "- ricostruire il cammino\n",
        "- memorizzare iul grafo in modo efficiente\n",
        "- definire da input $s$ e $t$"
      ],
      "metadata": {
        "id": "qJPjYgWO_X69"
      }
    }
  ]
}