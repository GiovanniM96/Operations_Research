{
 "cells": [
  {
   "cell_type": "code",
   "execution_count": null,
   "id": "54a27bf9-3552-4d90-9b35-6c2333b655ec",
   "metadata": {},
   "outputs": [],
   "source": []
  },
  {
   "cell_type": "code",
   "execution_count": 33,
   "id": "870b7742-7591-4136-b888-4524cc209113",
   "metadata": {},
   "outputs": [
    {
     "ename": "NameError",
     "evalue": "name 'Solution' is not defined",
     "output_type": "error",
     "traceback": [
      "\u001b[0;31m---------------------------------------------------------------------------\u001b[0m",
      "\u001b[0;31mNameError\u001b[0m                                 Traceback (most recent call last)",
      "\u001b[0;32m/var/folders/b2/kqnx_r5555gfw4sz0bdz9b440000gp/T/ipykernel_28876/3350430435.py\u001b[0m in \u001b[0;36m<module>\u001b[0;34m\u001b[0m\n\u001b[1;32m      5\u001b[0m         \u001b[0mself\u001b[0m\u001b[0;34m.\u001b[0m\u001b[0my\u001b[0m \u001b[0;34m=\u001b[0m \u001b[0my\u001b[0m\u001b[0;34m\u001b[0m\u001b[0;34m\u001b[0m\u001b[0m\n\u001b[1;32m      6\u001b[0m \u001b[0;34m\u001b[0m\u001b[0m\n\u001b[0;32m----> 7\u001b[0;31m \u001b[0;32mclass\u001b[0m \u001b[0mLayoutSolution\u001b[0m\u001b[0;34m(\u001b[0m\u001b[0mSolution\u001b[0m\u001b[0;34m)\u001b[0m\u001b[0;34m:\u001b[0m\u001b[0;34m\u001b[0m\u001b[0;34m\u001b[0m\u001b[0m\n\u001b[0m\u001b[1;32m      8\u001b[0m     \u001b[0;32mdef\u001b[0m \u001b[0m__init__\u001b[0m\u001b[0;34m(\u001b[0m\u001b[0mself\u001b[0m\u001b[0;34m,\u001b[0m \u001b[0mresource_list\u001b[0m\u001b[0;34m)\u001b[0m\u001b[0;34m:\u001b[0m\u001b[0;34m\u001b[0m\u001b[0;34m\u001b[0m\u001b[0m\n\u001b[1;32m      9\u001b[0m         \u001b[0mself\u001b[0m\u001b[0;34m.\u001b[0m\u001b[0mresource_list\u001b[0m \u001b[0;34m=\u001b[0m \u001b[0mresource_list\u001b[0m\u001b[0;34m\u001b[0m\u001b[0;34m\u001b[0m\u001b[0m\n",
      "\u001b[0;31mNameError\u001b[0m: name 'Solution' is not defined"
     ]
    }
   ],
   "source": [
    "from optapy import Solution, SolutionDescriptor, PlanningProblem, PlannerFactory, SolverConfig, SolverFactory\n",
    "\n",
    "class Resource:\n",
    "    def __init__(self, id, x, y):\n",
    "        self.id = id\n",
    "        self.x = x\n",
    "        self.y = y\n",
    "\n",
    "class LayoutSolution(Solution):\n",
    "    def __init__(self, resource_list):\n",
    "        self.resource_list = resource_list\n",
    "        self.score = None\n",
    "\n",
    "class LayoutSolutionDescriptor(SolutionDescriptor):\n",
    "    def __init__(self):\n",
    "        super().__init__(LayoutSolution)\n",
    "\n",
    "    def get_all_instances(self, solution):\n",
    "        return solution.resource_list\n",
    "\n",
    "    def get_value(self, solution, variable):\n",
    "        return variable\n",
    "\n",
    "    def set_value(self, solution, variable, value):\n",
    "        variable.x = value[0]\n",
    "        variable.y = value[1]\n",
    "\n",
    "class LayoutPlanningProblem(PlanningProblem):\n",
    "    def __init__(self, resource_list):\n",
    "        super().__init__()\n",
    "        self.resource_list = resource_list\n",
    "\n",
    "    def get_solution_descriptor(self):\n",
    "        return LayoutSolutionDescriptor()\n",
    "\n",
    "    def get_initial_solution(self):\n",
    "        return LayoutSolution(self.resource_list)\n",
    "\n",
    "    def get_score_director_factory(self):\n",
    "        return None\n",
    "\n",
    "\n",
    "\n"
   ]
  },
  {
   "cell_type": "code",
   "execution_count": null,
   "id": "ae3a492c-8e54-42cd-b0cd-2675a046a23c",
   "metadata": {},
   "outputs": [],
   "source": []
  }
 ],
 "metadata": {
  "kernelspec": {
   "display_name": "Python 3 (ipykernel)",
   "language": "python",
   "name": "python3"
  },
  "language_info": {
   "codemirror_mode": {
    "name": "ipython",
    "version": 3
   },
   "file_extension": ".py",
   "mimetype": "text/x-python",
   "name": "python",
   "nbconvert_exporter": "python",
   "pygments_lexer": "ipython3",
   "version": "3.9.7"
  }
 },
 "nbformat": 4,
 "nbformat_minor": 5
}
